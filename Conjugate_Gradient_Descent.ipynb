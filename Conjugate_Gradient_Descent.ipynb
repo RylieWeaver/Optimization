{
  "nbformat": 4,
  "nbformat_minor": 0,
  "metadata": {
    "colab": {
      "provenance": [],
      "authorship_tag": "ABX9TyPjZc08oC7KE7HRfqlw0sLX",
      "include_colab_link": true
    },
    "kernelspec": {
      "name": "python3",
      "display_name": "Python 3"
    },
    "language_info": {
      "name": "python"
    }
  },
  "cells": [
    {
      "cell_type": "markdown",
      "metadata": {
        "id": "view-in-github",
        "colab_type": "text"
      },
      "source": [
        "<a href=\"https://colab.research.google.com/github/RylieWeaver9/Optimization/blob/main/Conjugate_Gradient_Descent.ipynb\" target=\"_parent\"><img src=\"https://colab.research.google.com/assets/colab-badge.svg\" alt=\"Open In Colab\"/></a>"
      ]
    },
    {
      "cell_type": "markdown",
      "source": [
        "### Conjugate Gradient Descent w/ Python"
      ],
      "metadata": {
        "id": "728_LLyycAq-"
      }
    },
    {
      "cell_type": "markdown",
      "source": [
        "Conjugate gradient descent performs one-dimensional gradient descent in iterations. The gradient direction iAn in-depth explanation can be found on page 31 of https://arxiv.org/abs/1405.4980 (Convex Optimization: Algorithms and Complexity by Sebastian Bubeck in assocation w/ Microsoft Research Group)"
      ],
      "metadata": {
        "id": "ZQwjHabqcbmG"
      }
    },
    {
      "cell_type": "code",
      "source": [
        "import numpy as np\n",
        "\n",
        "a, b = 1.0, 1.0\n",
        "\n",
        "def obj_func(x):\n",
        "    eval = a*(x[0]-1)**4 + (x[1]-2)**2 + b*(x[2]-1)**4\n",
        "    return eval\n",
        "\n",
        "def gradient(x):\n",
        "    grad_eval = [4*a*(x[0]-1)**3, 2*(x[1]-2), 4*b*(x[2]-1)**3]\n",
        "    return grad_eval\n",
        "\n",
        "def line_search(x, p):\n",
        "    lam=1.0\n",
        "    beta=0.5\n",
        "    c=1e-4\n",
        "    while obj_func(x + lam * p) > obj_func(x) + c * lam * np.dot(gradient(x), p):\n",
        "        lam *= beta\n",
        "    return lam\n",
        "\n",
        "def print_func(x, iter, p):\n",
        "    print(f\"x{iter}: {x}\")\n",
        "    eval = obj_func(x)\n",
        "    print(f\"obj_func(x{iter}): {eval}\")\n",
        "    print(f\"direction: {p}\")\n",
        "    print()\n",
        "\n",
        "def nonlinear_conjugate_gradient(x):\n",
        "    tol=1e-6\n",
        "    max_iter=5\n",
        "    iter=0\n",
        "    g = np.array(gradient(x))\n",
        "    p = -g\n",
        "    print_func(x, iter, p)\n",
        "\n",
        "    for k in range(max_iter):\n",
        "\n",
        "        # Update iteration\n",
        "        iter += 1\n",
        "\n",
        "        # Line search to find next x\n",
        "        x = x + p*line_search(x, p)\n",
        "\n",
        "        # Compute the new gradient\n",
        "        g_new = np.array(gradient(x))\n",
        "\n",
        "        # Compute beta using the Polak-Ribiere method\n",
        "        beta = np.dot(g_new, g_new - g) / np.dot(g, g)\n",
        "\n",
        "        # Update direction\n",
        "        p = -g_new + beta * p\n",
        "\n",
        "        g = g_new\n",
        "\n",
        "        # Print update\n",
        "        print_func(x, iter, p)\n",
        "\n",
        "        # Convergence check\n",
        "        if np.linalg.norm(g) < tol:\n",
        "            print(f\"Converged after {k+1} iterations.\")\n",
        "            rounded_x = [round(c, 3) for c in x]\n",
        "            return (f\"Optimal Value: {list(rounded_x)}\")\n",
        "\n",
        "    print(f\"Converged after {k+1} iterations.\")\n",
        "    rounded_x = [round(c, 3) for c in x]\n",
        "    return (f\"Optimal Value: {list(rounded_x)}\")"
      ],
      "metadata": {
        "id": "Dqe9C7rrPCj1"
      },
      "execution_count": 143,
      "outputs": []
    },
    {
      "cell_type": "code",
      "source": [
        "x = [2.0,3.0,2.0]\n",
        "nonlinear_conjugate_gradient(x)"
      ],
      "metadata": {
        "colab": {
          "base_uri": "https://localhost:8080/",
          "height": 330
        },
        "id": "yIAv5WnUV0xq",
        "outputId": "36d9bb35-4a28-4263-c622-14a487a12ea7"
      },
      "execution_count": 144,
      "outputs": [
        {
          "output_type": "stream",
          "name": "stdout",
          "text": [
            "x0: [2.0, 3.0, 2.0]\n",
            "obj_func(x0): 3.0\n",
            "direction: [-4. -2. -4.]\n",
            "\n",
            "x1: [0. 2. 0.]\n",
            "obj_func(x1): 2.0\n",
            "direction: [-3.11111111 -3.55555556 -3.11111111]\n",
            "\n",
            "x2: [-8.63506797e-17  2.00000000e+00 -8.63506797e-17]\n",
            "obj_func(x2): 2.0\n",
            "direction: [ 4. -0.  4.]\n",
            "\n",
            "x3: [1. 2. 1.]\n",
            "obj_func(x3): 3.0385816786431356e-64\n",
            "direction: [0. 0. 0.]\n",
            "\n",
            "Converged after 3 iterations.\n"
          ]
        },
        {
          "output_type": "execute_result",
          "data": {
            "text/plain": [
              "'Optimal Value: [1.0, 2.0, 1.0]'"
            ],
            "application/vnd.google.colaboratory.intrinsic+json": {
              "type": "string"
            }
          },
          "metadata": {},
          "execution_count": 144
        }
      ]
    }
  ]
}